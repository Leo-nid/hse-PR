{
 "cells": [
  {
   "cell_type": "code",
   "execution_count": 2,
   "id": "7e5ede3c",
   "metadata": {},
   "outputs": [],
   "source": [
    "from matplotlib import pyplot\n",
    "import matplotlib.patches as mpatches"
   ]
  },
  {
   "cell_type": "code",
   "execution_count": 3,
   "id": "ec618128",
   "metadata": {},
   "outputs": [],
   "source": [
    "# Some constants\n",
    "MAX_TEST = 1300\n",
    "MAX_HW = 3400\n",
    "MAX_SEMESTER = 4700\n",
    "FOR_BEST_MARK = 3900\n",
    "PERCENT_SEGMENTS_TO_MARK_WITH_COLOR = {\n",
    "    (0, 49): (2, \"red\"), \n",
    "    (50, 65): (3, \"orange\"), \n",
    "    (66, 89): (4, \"yellow\"), \n",
    "    (90, 100): (5, \"green\")\n",
    "}"
   ]
  },
  {
   "cell_type": "code",
   "execution_count": 10,
   "id": "e1668823",
   "metadata": {},
   "outputs": [
    {
     "data": {
      "image/png": "[encoded data removed]",
      "text/plain": [
       "<Figure size 432x288 with 1 Axes>"
      ]
     },
     "metadata": {
      "needs_background": "light"
     },
     "output_type": "display_data"
    }
   ],
   "source": [
    "def get_points(percent, max_points):\n",
    "    return percent * max_points // 100;\n",
    "\n",
    "def get_percent(points, max_points, occuracy):\n",
    "    return min(round(points * 100 / occuracy / max_points) * occuracy, 100)\n",
    "\n",
    "def add_legend():\n",
    "    patches = [\n",
    "        mpatches.Patch(label = mark_with_color[0], color = mark_with_color[1]) \n",
    "        for mark_with_color in PERCENT_SEGMENTS_TO_MARK_WITH_COLOR.values()\n",
    "    ] \n",
    "    pyplot.legend(handles = patches, loc = (1.04, 0))\n",
    "\n",
    "def prepare_pyplot():\n",
    "    pyplot.clf()\n",
    "    pyplot.axes().set_facecolor(\"lavender\")\n",
    "    pyplot.xlabel(\"HW done %\")\n",
    "    pyplot.ylabel(\"TEST done %\")\n",
    "    add_legend()\n",
    "    pyplot.grid()\n",
    "\n",
    "prepare_pyplot()\n",
    "\n",
    "for hw_percent in range(0, 101, 10):\n",
    "    for test_percent in range(0, 101, 10):\n",
    "        hw_points = get_points(hw_percent, MAX_HW)\n",
    "        test_points = get_points(test_percent, MAX_TEST)\n",
    "        total_points = hw_points + test_points\n",
    "        \n",
    "        total_percent = get_percent(total_points, FOR_BEST_MARK, 10)\n",
    "        \n",
    "        percent_segment = list(\n",
    "            filter(\n",
    "                lambda segment: segment[0] <= total_percent and total_percent <= segment[1], \n",
    "                PERCENT_SEGMENTS_TO_MARK_WITH_COLOR.keys()\n",
    "            )\n",
    "        )[0]\n",
    "        \n",
    "        color = PERCENT_SEGMENTS_TO_MARK_WITH_COLOR[percent_segment][1]\n",
    "        pyplot.plot(hw_percent, test_percent, 'o', color = color)\n",
    "\n",
    "pyplot.show()"
   ]
  },
  {
   "cell_type": "markdown",
   "id": "c9684406",
   "metadata": {},
   "source": [
    "Видно, что области оценок 3, 4, 5 занимают примерно одинаковое пространство (на самом деле пятерок немногим больше), в том время как двойки занимают почти в два раза большее пространство. \n",
    "Как мне кажется, оценивание достаточно справедливое в районе большого процента выполнения ДЗ. Например, возможно получить максимальный бал выполняя все дз, но в тоже время не приходя на тест, так как это будет не более чем тратой времени. Если же не хватало времени на выполнение ДЗ, но ты хорошо знаешь материал, то можно получить 4, хорошо написав тест. Однако кажется странным, что человек, который написал тест на максимальный балл, тем самым подтвердив свои знания, все равно получает минимальный балл, как и тот, который не делал вообще ничего"
   ]
  },
  {
   "cell_type": "code",
   "execution_count": null,
   "id": "e1e7a207",
   "metadata": {},
   "outputs": [],
   "source": []
  }
 ],
 "metadata": {
  "kernelspec": {
   "display_name": "Python 3 (ipykernel)",
   "language": "python",
   "name": "python3"
  },
  "language_info": {
   "codemirror_mode": {
    "name": "ipython",
    "version": 3
   },
   "file_extension": ".py",
   "mimetype": "text/x-python",
   "name": "python",
   "nbconvert_exporter": "python",
   "pygments_lexer": "ipython3",
   "version": "3.9.7"
  }
 },
 "nbformat": 4,
 "nbformat_minor": 5
}
